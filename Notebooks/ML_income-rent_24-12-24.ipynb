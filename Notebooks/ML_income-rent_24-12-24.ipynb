{
 "cells": [
  {
   "cell_type": "code",
   "execution_count": 5,
   "id": "9877e3c2",
   "metadata": {},
   "outputs": [],
   "source": [
    "import pandas as pd\n",
    "import numpy as np\n",
    "import matplotlib.pyplot as plt\n",
    "import seaborn as sns\n",
    "from sklearn.linear_model import LinearRegression"
   ]
  },
  {
   "cell_type": "code",
   "execution_count": 6,
   "id": "427cbf4c",
   "metadata": {},
   "outputs": [],
   "source": [
    "import warnings\n",
    "warnings.filterwarnings('ignore')\n"
   ]
  },
  {
   "cell_type": "code",
   "execution_count": 7,
   "id": "08131bd4",
   "metadata": {},
   "outputs": [
    {
     "data": {
      "text/html": [
       "<div>\n",
       "<style scoped>\n",
       "    .dataframe tbody tr th:only-of-type {\n",
       "        vertical-align: middle;\n",
       "    }\n",
       "\n",
       "    .dataframe tbody tr th {\n",
       "        vertical-align: top;\n",
       "    }\n",
       "\n",
       "    .dataframe thead th {\n",
       "        text-align: right;\n",
       "    }\n",
       "</style>\n",
       "<table border=\"1\" class=\"dataframe\">\n",
       "  <thead>\n",
       "    <tr style=\"text-align: right;\">\n",
       "      <th></th>\n",
       "      <th>Income</th>\n",
       "      <th>Rent</th>\n",
       "    </tr>\n",
       "  </thead>\n",
       "  <tbody>\n",
       "    <tr>\n",
       "      <th>0</th>\n",
       "      <td>2300</td>\n",
       "      <td>950</td>\n",
       "    </tr>\n",
       "    <tr>\n",
       "      <th>1</th>\n",
       "      <td>1400</td>\n",
       "      <td>500</td>\n",
       "    </tr>\n",
       "    <tr>\n",
       "      <th>2</th>\n",
       "      <td>2400</td>\n",
       "      <td>1000</td>\n",
       "    </tr>\n",
       "    <tr>\n",
       "      <th>3</th>\n",
       "      <td>5250</td>\n",
       "      <td>1800</td>\n",
       "    </tr>\n",
       "    <tr>\n",
       "      <th>4</th>\n",
       "      <td>4375</td>\n",
       "      <td>1600</td>\n",
       "    </tr>\n",
       "    <tr>\n",
       "      <th>5</th>\n",
       "      <td>1800</td>\n",
       "      <td>600</td>\n",
       "    </tr>\n",
       "    <tr>\n",
       "      <th>6</th>\n",
       "      <td>1500</td>\n",
       "      <td>500</td>\n",
       "    </tr>\n",
       "    <tr>\n",
       "      <th>7</th>\n",
       "      <td>1600</td>\n",
       "      <td>600</td>\n",
       "    </tr>\n",
       "    <tr>\n",
       "      <th>8</th>\n",
       "      <td>4150</td>\n",
       "      <td>1800</td>\n",
       "    </tr>\n",
       "    <tr>\n",
       "      <th>9</th>\n",
       "      <td>4500</td>\n",
       "      <td>1750</td>\n",
       "    </tr>\n",
       "  </tbody>\n",
       "</table>\n",
       "</div>"
      ],
      "text/plain": [
       "   Income  Rent\n",
       "0    2300   950\n",
       "1    1400   500\n",
       "2    2400  1000\n",
       "3    5250  1800\n",
       "4    4375  1600\n",
       "5    1800   600\n",
       "6    1500   500\n",
       "7    1600   600\n",
       "8    4150  1800\n",
       "9    4500  1750"
      ]
     },
     "execution_count": 7,
     "metadata": {},
     "output_type": "execute_result"
    }
   ],
   "source": [
    "df= pd.read_csv(\"income-rent.csv\") \n",
    "df"
   ]
  },
  {
   "cell_type": "code",
   "execution_count": 4,
   "id": "25b9dc2b",
   "metadata": {},
   "outputs": [],
   "source": [
    "X = df[['Income']] #taking income as x\n",
    "y = df['Rent']     #taking rent as y"
   ]
  },
  {
   "cell_type": "code",
   "execution_count": 5,
   "id": "3dc91b5d",
   "metadata": {},
   "outputs": [
    {
     "data": {
      "text/html": [
       "<div>\n",
       "<style scoped>\n",
       "    .dataframe tbody tr th:only-of-type {\n",
       "        vertical-align: middle;\n",
       "    }\n",
       "\n",
       "    .dataframe tbody tr th {\n",
       "        vertical-align: top;\n",
       "    }\n",
       "\n",
       "    .dataframe thead th {\n",
       "        text-align: right;\n",
       "    }\n",
       "</style>\n",
       "<table border=\"1\" class=\"dataframe\">\n",
       "  <thead>\n",
       "    <tr style=\"text-align: right;\">\n",
       "      <th></th>\n",
       "      <th>Income</th>\n",
       "    </tr>\n",
       "  </thead>\n",
       "  <tbody>\n",
       "    <tr>\n",
       "      <th>0</th>\n",
       "      <td>2300</td>\n",
       "    </tr>\n",
       "    <tr>\n",
       "      <th>1</th>\n",
       "      <td>1400</td>\n",
       "    </tr>\n",
       "    <tr>\n",
       "      <th>2</th>\n",
       "      <td>2400</td>\n",
       "    </tr>\n",
       "    <tr>\n",
       "      <th>3</th>\n",
       "      <td>5250</td>\n",
       "    </tr>\n",
       "    <tr>\n",
       "      <th>4</th>\n",
       "      <td>4375</td>\n",
       "    </tr>\n",
       "    <tr>\n",
       "      <th>5</th>\n",
       "      <td>1800</td>\n",
       "    </tr>\n",
       "    <tr>\n",
       "      <th>6</th>\n",
       "      <td>1500</td>\n",
       "    </tr>\n",
       "    <tr>\n",
       "      <th>7</th>\n",
       "      <td>1600</td>\n",
       "    </tr>\n",
       "    <tr>\n",
       "      <th>8</th>\n",
       "      <td>4150</td>\n",
       "    </tr>\n",
       "    <tr>\n",
       "      <th>9</th>\n",
       "      <td>4500</td>\n",
       "    </tr>\n",
       "  </tbody>\n",
       "</table>\n",
       "</div>"
      ],
      "text/plain": [
       "   Income\n",
       "0    2300\n",
       "1    1400\n",
       "2    2400\n",
       "3    5250\n",
       "4    4375\n",
       "5    1800\n",
       "6    1500\n",
       "7    1600\n",
       "8    4150\n",
       "9    4500"
      ]
     },
     "execution_count": 5,
     "metadata": {},
     "output_type": "execute_result"
    }
   ],
   "source": [
    "X"
   ]
  },
  {
   "cell_type": "code",
   "execution_count": 6,
   "id": "06c4842e",
   "metadata": {},
   "outputs": [
    {
     "data": {
      "text/plain": [
       "0     950\n",
       "1     500\n",
       "2    1000\n",
       "3    1800\n",
       "4    1600\n",
       "5     600\n",
       "6     500\n",
       "7     600\n",
       "8    1800\n",
       "9    1750\n",
       "Name: Rent, dtype: int64"
      ]
     },
     "execution_count": 6,
     "metadata": {},
     "output_type": "execute_result"
    }
   ],
   "source": [
    "y"
   ]
  },
  {
   "cell_type": "code",
   "execution_count": 12,
   "id": "16ed8ff4",
   "metadata": {},
   "outputs": [],
   "source": [
    "# Build the model"
   ]
  },
  {
   "cell_type": "code",
   "execution_count": 7,
   "id": "ad5f755c",
   "metadata": {},
   "outputs": [
    {
     "data": {
      "text/html": [
       "<style>#sk-container-id-1 {color: black;background-color: white;}#sk-container-id-1 pre{padding: 0;}#sk-container-id-1 div.sk-toggleable {background-color: white;}#sk-container-id-1 label.sk-toggleable__label {cursor: pointer;display: block;width: 100%;margin-bottom: 0;padding: 0.3em;box-sizing: border-box;text-align: center;}#sk-container-id-1 label.sk-toggleable__label-arrow:before {content: \"▸\";float: left;margin-right: 0.25em;color: #696969;}#sk-container-id-1 label.sk-toggleable__label-arrow:hover:before {color: black;}#sk-container-id-1 div.sk-estimator:hover label.sk-toggleable__label-arrow:before {color: black;}#sk-container-id-1 div.sk-toggleable__content {max-height: 0;max-width: 0;overflow: hidden;text-align: left;background-color: #f0f8ff;}#sk-container-id-1 div.sk-toggleable__content pre {margin: 0.2em;color: black;border-radius: 0.25em;background-color: #f0f8ff;}#sk-container-id-1 input.sk-toggleable__control:checked~div.sk-toggleable__content {max-height: 200px;max-width: 100%;overflow: auto;}#sk-container-id-1 input.sk-toggleable__control:checked~label.sk-toggleable__label-arrow:before {content: \"▾\";}#sk-container-id-1 div.sk-estimator input.sk-toggleable__control:checked~label.sk-toggleable__label {background-color: #d4ebff;}#sk-container-id-1 div.sk-label input.sk-toggleable__control:checked~label.sk-toggleable__label {background-color: #d4ebff;}#sk-container-id-1 input.sk-hidden--visually {border: 0;clip: rect(1px 1px 1px 1px);clip: rect(1px, 1px, 1px, 1px);height: 1px;margin: -1px;overflow: hidden;padding: 0;position: absolute;width: 1px;}#sk-container-id-1 div.sk-estimator {font-family: monospace;background-color: #f0f8ff;border: 1px dotted black;border-radius: 0.25em;box-sizing: border-box;margin-bottom: 0.5em;}#sk-container-id-1 div.sk-estimator:hover {background-color: #d4ebff;}#sk-container-id-1 div.sk-parallel-item::after {content: \"\";width: 100%;border-bottom: 1px solid gray;flex-grow: 1;}#sk-container-id-1 div.sk-label:hover label.sk-toggleable__label {background-color: #d4ebff;}#sk-container-id-1 div.sk-serial::before {content: \"\";position: absolute;border-left: 1px solid gray;box-sizing: border-box;top: 0;bottom: 0;left: 50%;z-index: 0;}#sk-container-id-1 div.sk-serial {display: flex;flex-direction: column;align-items: center;background-color: white;padding-right: 0.2em;padding-left: 0.2em;position: relative;}#sk-container-id-1 div.sk-item {position: relative;z-index: 1;}#sk-container-id-1 div.sk-parallel {display: flex;align-items: stretch;justify-content: center;background-color: white;position: relative;}#sk-container-id-1 div.sk-item::before, #sk-container-id-1 div.sk-parallel-item::before {content: \"\";position: absolute;border-left: 1px solid gray;box-sizing: border-box;top: 0;bottom: 0;left: 50%;z-index: -1;}#sk-container-id-1 div.sk-parallel-item {display: flex;flex-direction: column;z-index: 1;position: relative;background-color: white;}#sk-container-id-1 div.sk-parallel-item:first-child::after {align-self: flex-end;width: 50%;}#sk-container-id-1 div.sk-parallel-item:last-child::after {align-self: flex-start;width: 50%;}#sk-container-id-1 div.sk-parallel-item:only-child::after {width: 0;}#sk-container-id-1 div.sk-dashed-wrapped {border: 1px dashed gray;margin: 0 0.4em 0.5em 0.4em;box-sizing: border-box;padding-bottom: 0.4em;background-color: white;}#sk-container-id-1 div.sk-label label {font-family: monospace;font-weight: bold;display: inline-block;line-height: 1.2em;}#sk-container-id-1 div.sk-label-container {text-align: center;}#sk-container-id-1 div.sk-container {/* jupyter's `normalize.less` sets `[hidden] { display: none; }` but bootstrap.min.css set `[hidden] { display: none !important; }` so we also need the `!important` here to be able to override the default hidden behavior on the sphinx rendered scikit-learn.org. See: https://github.com/scikit-learn/scikit-learn/issues/21755 */display: inline-block !important;position: relative;}#sk-container-id-1 div.sk-text-repr-fallback {display: none;}</style><div id=\"sk-container-id-1\" class=\"sk-top-container\"><div class=\"sk-text-repr-fallback\"><pre>LinearRegression()</pre><b>In a Jupyter environment, please rerun this cell to show the HTML representation or trust the notebook. <br />On GitHub, the HTML representation is unable to render, please try loading this page with nbviewer.org.</b></div><div class=\"sk-container\" hidden><div class=\"sk-item\"><div class=\"sk-estimator sk-toggleable\"><input class=\"sk-toggleable__control sk-hidden--visually\" id=\"sk-estimator-id-1\" type=\"checkbox\" checked><label for=\"sk-estimator-id-1\" class=\"sk-toggleable__label sk-toggleable__label-arrow\">LinearRegression</label><div class=\"sk-toggleable__content\"><pre>LinearRegression()</pre></div></div></div></div></div>"
      ],
      "text/plain": [
       "LinearRegression()"
      ]
     },
     "execution_count": 7,
     "metadata": {},
     "output_type": "execute_result"
    }
   ],
   "source": [
    "model = LinearRegression()\n",
    "model.fit(X,y) #train the model->telling the model what is x and y"
   ]
  },
  {
   "cell_type": "code",
   "execution_count": 14,
   "id": "d30ede95",
   "metadata": {},
   "outputs": [
    {
     "data": {
      "text/plain": [
       "array([0.37755216])"
      ]
     },
     "execution_count": 14,
     "metadata": {},
     "output_type": "execute_result"
    }
   ],
   "source": [
    "model.coef_ #m-> Slope"
   ]
  },
  {
   "cell_type": "code",
   "execution_count": 15,
   "id": "7428aabf",
   "metadata": {},
   "outputs": [
    {
     "data": {
      "text/plain": [
       "4.716042351269834"
      ]
     },
     "execution_count": 15,
     "metadata": {},
     "output_type": "execute_result"
    }
   ],
   "source": [
    "model.intercept_ #c-> y intercept"
   ]
  },
  {
   "cell_type": "code",
   "execution_count": 16,
   "id": "fb3cc2a7",
   "metadata": {},
   "outputs": [
    {
     "data": {
      "text/plain": [
       "array([1892.47685815])"
      ]
     },
     "execution_count": 16,
     "metadata": {},
     "output_type": "execute_result"
    }
   ],
   "source": [
    "model.predict([[5000]])  # (0.377[x value needed to predict])+4.7"
   ]
  },
  {
   "cell_type": "code",
   "execution_count": 21,
   "id": "87a23ab3",
   "metadata": {},
   "outputs": [
    {
     "data": {
      "text/plain": [
       "array([ 873.08601762,  533.28907077,  910.84123393, 1986.86489894,\n",
       "       1656.50675617,  684.30993604,  571.04428709,  608.79950341,\n",
       "       1571.55751946, 1703.70077657])"
      ]
     },
     "execution_count": 21,
     "metadata": {},
     "output_type": "execute_result"
    }
   ],
   "source": [
    "ypred = model.predict(x)\n",
    "ypred #Predicted values"
   ]
  },
  {
   "cell_type": "code",
   "execution_count": 19,
   "id": "e171a0c9",
   "metadata": {},
   "outputs": [],
   "source": [
    "from sklearn.metrics import r2_score"
   ]
  },
  {
   "cell_type": "code",
   "execution_count": 20,
   "id": "9fb031b6",
   "metadata": {},
   "outputs": [
    {
     "data": {
      "text/plain": [
       "0.9587991788081074"
      ]
     },
     "execution_count": 20,
     "metadata": {},
     "output_type": "execute_result"
    }
   ],
   "source": [
    "r2_score(y, pred) #R^2 =sum of [(y- ypred)^2 ]/ sum of [(y=y.bar)^2]]"
   ]
  },
  {
   "cell_type": "code",
   "execution_count": 17,
   "id": "90af8f5e",
   "metadata": {},
   "outputs": [
    {
     "name": "stdout",
     "output_type": "stream",
     "text": [
      "X range= [[1400.        ]\n",
      " [1438.88888889]\n",
      " [1477.77777778]\n",
      " [1516.66666667]\n",
      " [1555.55555556]\n",
      " [1594.44444444]\n",
      " [1633.33333333]\n",
      " [1672.22222222]\n",
      " [1711.11111111]\n",
      " [1750.        ]\n",
      " [1788.88888889]\n",
      " [1827.77777778]\n",
      " [1866.66666667]\n",
      " [1905.55555556]\n",
      " [1944.44444444]\n",
      " [1983.33333333]\n",
      " [2022.22222222]\n",
      " [2061.11111111]\n",
      " [2100.        ]\n",
      " [2138.88888889]\n",
      " [2177.77777778]\n",
      " [2216.66666667]\n",
      " [2255.55555556]\n",
      " [2294.44444444]\n",
      " [2333.33333333]\n",
      " [2372.22222222]\n",
      " [2411.11111111]\n",
      " [2450.        ]\n",
      " [2488.88888889]\n",
      " [2527.77777778]\n",
      " [2566.66666667]\n",
      " [2605.55555556]\n",
      " [2644.44444444]\n",
      " [2683.33333333]\n",
      " [2722.22222222]\n",
      " [2761.11111111]\n",
      " [2800.        ]\n",
      " [2838.88888889]\n",
      " [2877.77777778]\n",
      " [2916.66666667]\n",
      " [2955.55555556]\n",
      " [2994.44444444]\n",
      " [3033.33333333]\n",
      " [3072.22222222]\n",
      " [3111.11111111]\n",
      " [3150.        ]\n",
      " [3188.88888889]\n",
      " [3227.77777778]\n",
      " [3266.66666667]\n",
      " [3305.55555556]\n",
      " [3344.44444444]\n",
      " [3383.33333333]\n",
      " [3422.22222222]\n",
      " [3461.11111111]\n",
      " [3500.        ]\n",
      " [3538.88888889]\n",
      " [3577.77777778]\n",
      " [3616.66666667]\n",
      " [3655.55555556]\n",
      " [3694.44444444]\n",
      " [3733.33333333]\n",
      " [3772.22222222]\n",
      " [3811.11111111]\n",
      " [3850.        ]\n",
      " [3888.88888889]\n",
      " [3927.77777778]\n",
      " [3966.66666667]\n",
      " [4005.55555556]\n",
      " [4044.44444444]\n",
      " [4083.33333333]\n",
      " [4122.22222222]\n",
      " [4161.11111111]\n",
      " [4200.        ]\n",
      " [4238.88888889]\n",
      " [4277.77777778]\n",
      " [4316.66666667]\n",
      " [4355.55555556]\n",
      " [4394.44444444]\n",
      " [4433.33333333]\n",
      " [4472.22222222]\n",
      " [4511.11111111]\n",
      " [4550.        ]\n",
      " [4588.88888889]\n",
      " [4627.77777778]\n",
      " [4666.66666667]\n",
      " [4705.55555556]\n",
      " [4744.44444444]\n",
      " [4783.33333333]\n",
      " [4822.22222222]\n",
      " [4861.11111111]\n",
      " [4900.        ]\n",
      " [4938.88888889]\n",
      " [4977.77777778]\n",
      " [5016.66666667]\n",
      " [5055.55555556]\n",
      " [5094.44444444]\n",
      " [5133.33333333]\n",
      " [5172.22222222]\n",
      " [5211.11111111]\n",
      " [5250.        ]] \n",
      "\n",
      "y pred= [ 533.28907077  547.9716549   562.65423902  577.33682314  592.01940727\n",
      "  606.70199139  621.38457551  636.06715963  650.74974376  665.43232788\n",
      "  680.114912    694.79749613  709.48008025  724.16266437  738.84524849\n",
      "  753.52783262  768.21041674  782.89300086  797.57558499  812.25816911\n",
      "  826.94075323  841.62333735  856.30592148  870.9885056   885.67108972\n",
      "  900.35367385  915.03625797  929.71884209  944.40142621  959.08401034\n",
      "  973.76659446  988.44917858 1003.13176271 1017.81434683 1032.49693095\n",
      " 1047.17951507 1061.8620992  1076.54468332 1091.22726744 1105.90985157\n",
      " 1120.59243569 1135.27501981 1149.95760393 1164.64018806 1179.32277218\n",
      " 1194.0053563  1208.68794043 1223.37052455 1238.05310867 1252.73569279\n",
      " 1267.41827692 1282.10086104 1296.78344516 1311.46602929 1326.14861341\n",
      " 1340.83119753 1355.51378165 1370.19636578 1384.8789499  1399.56153402\n",
      " 1414.24411815 1428.92670227 1443.60928639 1458.29187051 1472.97445464\n",
      " 1487.65703876 1502.33962288 1517.02220701 1531.70479113 1546.38737525\n",
      " 1561.06995937 1575.7525435  1590.43512762 1605.11771174 1619.80029587\n",
      " 1634.48287999 1649.16546411 1663.84804823 1678.53063236 1693.21321648\n",
      " 1707.8958006  1722.57838473 1737.26096885 1751.94355297 1766.62613709\n",
      " 1781.30872122 1795.99130534 1810.67388946 1825.35647359 1840.03905771\n",
      " 1854.72164183 1869.40422595 1884.08681008 1898.7693942  1913.45197832\n",
      " 1928.13456245 1942.81714657 1957.49973069 1972.18231481 1986.86489894] \n",
      "\n"
     ]
    }
   ],
   "source": [
    "# Predictions for the regression line\n",
    "x_range = np.linspace(df['Income'].min(), df['Income'].max(), 100).reshape(-1, 1)\n",
    "print('X range=',x_range,'\\n')\n",
    "y_pred = model.predict(x_range)\n",
    "print('y pred=',y_pred,'\\n')"
   ]
  },
  {
   "cell_type": "code",
   "execution_count": 12,
   "id": "768326c9",
   "metadata": {},
   "outputs": [
    {
     "data": {
      "image/png": "[encoded data removed]",
      "text/plain": [
       "<Figure size 800x500 with 1 Axes>"
      ]
     },
     "metadata": {},
     "output_type": "display_data"
    }
   ],
   "source": [
    "\n",
    "\n",
    "# Plot\n",
    "plt.figure(figsize=(8, 5))\n",
    "sns.scatterplot(x='Income', y='Rent', data=df, color='blue', label='Data Points')\n",
    "plt.plot(x_range, y_pred, color='red', label='Regression Line')\n",
    "plt.title('Linear Regression Line Plot')\n",
    "plt.xlabel('Income')\n",
    "plt.ylabel('Rent')\n",
    "plt.legend()\n",
    "plt.grid(True)\n",
    "plt.show()"
   ]
  },
  {
   "cell_type": "code",
   "execution_count": null,
   "id": "432bd3ff",
   "metadata": {},
   "outputs": [],
   "source": [
    "sns.regplot(x = 'Income', y = 'Pfofit', data = df, ci = 0)"
   ]
  },
  {
   "cell_type": "code",
   "execution_count": null,
   "id": "b127deb8",
   "metadata": {},
   "outputs": [],
   "source": []
  },
  {
   "cell_type": "code",
   "execution_count": null,
   "id": "e0573600",
   "metadata": {},
   "outputs": [],
   "source": []
  }
 ],
 "metadata": {
  "kernelspec": {
   "display_name": "Python 3 (ipykernel)",
   "language": "python",
   "name": "python3"
  },
  "language_info": {
   "codemirror_mode": {
    "name": "ipython",
    "version": 3
   },
   "file_extension": ".py",
   "mimetype": "text/x-python",
   "name": "python",
   "nbconvert_exporter": "python",
   "pygments_lexer": "ipython3",
   "version": "3.11.3"
  }
 },
 "nbformat": 4,
 "nbformat_minor": 5
}
